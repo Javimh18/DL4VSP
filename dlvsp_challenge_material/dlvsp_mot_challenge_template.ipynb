{
  "cells": [
    {
      "cell_type": "markdown",
      "metadata": {
        "id": "xABx3A-soZMM"
      },
      "source": [
        "# Deep Learning for Video Signal Processing (DLVSP)\n",
        "## Master in Deep Learning for Audio and Video Signal Processing (MUDLAVSP)\n",
        "## Universidad Autonoma de Madrid\n",
        "\n",
        "## **Challenge: multiple object tracking for video sequences (template for assignment)**\n",
        "\n",
        "The goal of this challenge to **is to analyze and improve the tracking performance of the baseline multi-object tracker provided in the tutorial**. Your submission consists on a report in PDF formant and this notebook (plus any additional source code files needed). You can *cut&paste as needed from the tutorial notebook* but please identify clearly your contributions with respect to the tutorial.\n",
        "\n",
        "Your submission should adhere to the following restrictions (see the tutorial for further info on each aspect):\n",
        "* The tracker must be based on the tracking-by-detection scheme, so an object detector must be applied.\n",
        "* For evaluation, you must use the [MOT16](https://motchallenge.net/data/MOT16/) dataset. In particular, you must use the train/test partition provided in the [material](http://www-vpu.eps.uam.es/~jcs/DLVSP/dlvsp_challenge_material.zip') based on the original `MOT16-train` and some other sequences for `test`.\n",
        "* The evaluation should be quantitative employing well-known metrics such as MOTA, MOTP, TP, FP, FN and IDswitches.\n",
        "\n",
        "\n",
        "Author1: Manuel Otero (manuel.otero@estudiante.uam.es)\n",
        "\n",
        "Author2: Javier Muñoz (javier.munnozharo@estudiante.uam.es)\n"
      ]
    },
    {
      "cell_type": "markdown",
      "metadata": {
        "id": "LFYSSMiwpxSq"
      },
      "source": [
        "# 1 Setup\n",
        "Add here all the required setup and libraries to run your tracker..."
      ]
    },
    {
      "cell_type": "code",
      "execution_count": null,
      "metadata": {
        "id": "KRMsynpFU6gh"
      },
      "outputs": [],
      "source": [
        "#..."
      ]
    },
    {
      "cell_type": "markdown",
      "metadata": {
        "id": "A1Qe2615tOQQ"
      },
      "source": [
        "# 2 Dataset\n",
        "\n",
        "Add here all the required code to load the dataset...\n"
      ]
    },
    {
      "cell_type": "code",
      "execution_count": null,
      "metadata": {
        "id": "hcbme23UQ5p2"
      },
      "outputs": [],
      "source": [
        "#..."
      ]
    },
    {
      "cell_type": "markdown",
      "metadata": {
        "id": "0cvaNe42gIll"
      },
      "source": [
        "# 3 Object detector\n",
        "Add here all the required code to load the detector employed by the tracker...\n"
      ]
    },
    {
      "cell_type": "code",
      "execution_count": null,
      "metadata": {
        "id": "z2g7oHASTa8v"
      },
      "outputs": [],
      "source": [
        "#..."
      ]
    },
    {
      "cell_type": "markdown",
      "metadata": {
        "id": "WGszq40utUfA"
      },
      "source": [
        "# 4 Multi-object tracking\n",
        "Add here all the required code to load and run your tracker..."
      ]
    },
    {
      "cell_type": "code",
      "execution_count": null,
      "metadata": {
        "id": "bJ9XnyGCsiqt"
      },
      "outputs": [],
      "source": [
        "#..."
      ]
    },
    {
      "cell_type": "markdown",
      "metadata": {
        "id": "M2-zvV24JaEO"
      },
      "source": [
        "# 5 Challenge results\n",
        "Add here all the required code to generate the results for the challenge (i.e. to be submitted to Moodle)"
      ]
    },
    {
      "cell_type": "code",
      "execution_count": null,
      "metadata": {
        "id": "JZLw39nRJa3w"
      },
      "outputs": [],
      "source": [
        "#..."
      ]
    }
  ],
  "metadata": {
    "accelerator": "GPU",
    "colab": {
      "machine_shape": "hm",
      "provenance": []
    },
    "kernelspec": {
      "display_name": "Python 3",
      "name": "python3"
    }
  },
  "nbformat": 4,
  "nbformat_minor": 0
}
